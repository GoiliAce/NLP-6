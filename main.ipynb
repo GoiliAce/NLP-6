{
 "cells": [
  {
   "cell_type": "markdown",
   "metadata": {},
   "source": [
    "## Cao Nguyễn Gia Hưng\n",
    "## 20089711"
   ]
  },
  {
   "cell_type": "code",
   "execution_count": 3,
   "metadata": {},
   "outputs": [],
   "source": [
    "from bs4 import BeautifulSoup\n",
    "import requests\n",
    "import pandas as pd\n",
    "import numpy as np\n",
    "import matplotlib.pyplot as plt\n",
    "import seaborn as sns\n",
    "import re\n",
    "from tqdm import tqdm\n",
    "import os\n",
    "import json"
   ]
  },
  {
   "cell_type": "markdown",
   "metadata": {},
   "source": [
    "### Tiền xử lý dữ liệu với Beautiful Soup, re,.."
   ]
  },
  {
   "cell_type": "code",
   "execution_count": 2,
   "metadata": {},
   "outputs": [],
   "source": [
    "url_base = 'https://vnexpress.net'\n",
    "headers = ['the-thao', 'khoa-hoc', 'suc-khoe', 'giao-duc', 'du-lich']"
   ]
  },
  {
   "cell_type": "code",
   "execution_count": null,
   "metadata": {},
   "outputs": [],
   "source": [
    "url_subpage =[]\n",
    "for header in headers:\n",
    "    url_post = []\n",
    "    \n",
    "    for page in range(1,10):\n",
    "        response = requests.get(url_base+'/'+header+'-p'+str(page))\n",
    "        soup = BeautifulSoup(response.text, 'html.parser')\n",
    "        posts = soup.find_all(class_='title-news')\n",
    "        for post in posts:\n",
    "            url_post.append(post.a['href'])\n",
    "    url_subpage.append({\n",
    "        header: list(set(url_post))\n",
    "    })"
   ]
  },
  {
   "cell_type": "code",
   "execution_count": null,
   "metadata": {},
   "outputs": [],
   "source": [
    "with open('url.json', 'w') as f:\n",
    "    json.dump(url_subpage, f, indent=4)"
   ]
  },
  {
   "cell_type": "code",
   "execution_count": null,
   "metadata": {},
   "outputs": [
    {
     "data": {
      "text/plain": [
       "275"
      ]
     },
     "execution_count": 82,
     "metadata": {},
     "output_type": "execute_result"
    }
   ],
   "source": [
    "len(url_subpage[1]['khoa-hoc'])"
   ]
  },
  {
   "cell_type": "code",
   "execution_count": null,
   "metadata": {},
   "outputs": [],
   "source": [
    "%%bash\n",
    "rm -r data"
   ]
  },
  {
   "cell_type": "code",
   "execution_count": null,
   "metadata": {},
   "outputs": [],
   "source": [
    "os.makedirs('./data')"
   ]
  },
  {
   "cell_type": "code",
   "execution_count": null,
   "metadata": {},
   "outputs": [],
   "source": [
    "rag = tqdm(url_subpage)\n",
    "for urls in rag:\n",
    "    header =list(urls.keys())[0]\n",
    "    url_post = list(urls.values())[0]\n",
    "    json_result = []\n",
    "    while len(json_result) <250 and url_post:\n",
    "        rag.set_description(f'{header} - {len(json_result)}')\n",
    "        url = url_post.pop()\n",
    "        response = requests.get(url)\n",
    "        try:\n",
    "            soup = BeautifulSoup(response.text, 'html.parser')\n",
    "            title = soup.find(class_='title-detail').text\n",
    "            description = soup.find('p', class_='description')\n",
    "            for i in description.find_all(class_='location-stamp'):\n",
    "                i.decompose()\n",
    "            description = description.text\n",
    "            content = '\\n'.join([p.text for p in soup.find_all('p', class_='Normal')])\n",
    "            title_ = re.sub(r'[^a-zA-Z]+', '', title).lower()\n",
    "            content = description+'\\n'+content\n",
    "            if len(content) < 1000:\n",
    "                continue\n",
    "            json_result.append({\n",
    "                'title': title,\n",
    "                'content': description+'\\n'+content,\n",
    "            })\n",
    "        except AttributeError:\n",
    "            print('Error')\n",
    "            continue\n",
    "        \n",
    "    with open(f'./data/{header}.json', 'w') as f:\n",
    "        json.dump(json_result, f, ensure_ascii=False, indent=4)\n",
    "        "
   ]
  },
  {
   "cell_type": "markdown",
   "metadata": {},
   "source": [
    "Loads data"
   ]
  },
  {
   "cell_type": "code",
   "execution_count": 5,
   "metadata": {},
   "outputs": [],
   "source": [
    "files = os.listdir('./data')\n",
    "paths = [file for file in files if file.endswith('.json')]"
   ]
  },
  {
   "cell_type": "code",
   "execution_count": 8,
   "metadata": {},
   "outputs": [],
   "source": [
    "data = []\n",
    "labels = []\n",
    "for path in paths:\n",
    "    with open( os.path.join('./data', path), 'r') as f:\n",
    "        doc = json.load(f)\n",
    "        for item in doc:\n",
    "            data.append(item['content'])\n",
    "            labels.append(path.split('.')[0])        "
   ]
  },
  {
   "cell_type": "markdown",
   "metadata": {},
   "source": [
    "### 2. Tách từ (Tokenize) sử dụng thư viện pyvi hay underthesea"
   ]
  },
  {
   "cell_type": "code",
   "execution_count": 107,
   "metadata": {},
   "outputs": [],
   "source": [
    "from underthesea import word_tokenize\n",
    "from sklearn.feature_extraction.text import TfidfVectorizer"
   ]
  },
  {
   "cell_type": "markdown",
   "metadata": {},
   "source": [
    "Tiền xử lý dữ liệu"
   ]
  },
  {
   "cell_type": "code",
   "execution_count": 108,
   "metadata": {},
   "outputs": [],
   "source": [
    "df = pd.DataFrame({'data': data, 'label': labels})"
   ]
  },
  {
   "cell_type": "code",
   "execution_count": 109,
   "metadata": {},
   "outputs": [],
   "source": [
    "df['text'] = df['data'].apply(lambda x: x.lower())"
   ]
  },
  {
   "cell_type": "code",
   "execution_count": 110,
   "metadata": {},
   "outputs": [],
   "source": [
    "from sklearn.preprocessing import LabelEncoder\n",
    "lb = LabelEncoder()"
   ]
  },
  {
   "cell_type": "code",
   "execution_count": 111,
   "metadata": {},
   "outputs": [],
   "source": [
    "df['label_encode'] = lb.fit_transform(df['label'])"
   ]
  },
  {
   "cell_type": "markdown",
   "metadata": {},
   "source": [
    "#### Tách từ (Tokenize) sử dụng thư viện pyvi hay underthesea"
   ]
  },
  {
   "cell_type": "code",
   "execution_count": 112,
   "metadata": {},
   "outputs": [],
   "source": [
    "df['text'] = df['text'].apply(lambda x: word_tokenize(x, format=\"text\"))"
   ]
  },
  {
   "cell_type": "code",
   "execution_count": 12,
   "metadata": {},
   "outputs": [],
   "source": [
    "# from nltk.corpus import stopwords\n",
    "\n",
    "# # Lấy danh sách stop words tiếng Việt\n",
    "# stop_words = set(stopwords.words('vietnamese'))"
   ]
  },
  {
   "cell_type": "code",
   "execution_count": 13,
   "metadata": {},
   "outputs": [],
   "source": [
    "# def process(text):\n",
    "#     text = word_tokenize(text, format=\"text\")\n",
    "#     text = [word for word in text.split() if word not in stop_words]\n",
    "#     return ' '.join(text)"
   ]
  },
  {
   "cell_type": "code",
   "execution_count": 14,
   "metadata": {},
   "outputs": [],
   "source": [
    "# df['text'] = df['text'].apply(lambda x: process(x))"
   ]
  },
  {
   "cell_type": "code",
   "execution_count": 15,
   "metadata": {},
   "outputs": [
    {
     "name": "stdout",
     "output_type": "stream",
     "text": [
      "<class 'pandas.core.frame.DataFrame'>\n",
      "RangeIndex: 1235 entries, 0 to 1234\n",
      "Data columns (total 3 columns):\n",
      " #   Column  Non-Null Count  Dtype \n",
      "---  ------  --------------  ----- \n",
      " 0   data    1235 non-null   object\n",
      " 1   label   1235 non-null   object\n",
      " 2   text    1235 non-null   object\n",
      "dtypes: object(3)\n",
      "memory usage: 29.1+ KB\n"
     ]
    }
   ],
   "source": [
    "df.info()"
   ]
  },
  {
   "cell_type": "code",
   "execution_count": 32,
   "metadata": {},
   "outputs": [
    {
     "data": {
      "image/png": "[encoded data removed]",
      "text/plain": [
       "<Figure size 640x480 with 1 Axes>"
      ]
     },
     "metadata": {},
     "output_type": "display_data"
    }
   ],
   "source": [
    "# visualize class distribution\n",
    "plt.bar(df.label.value_counts().index, df.label.value_counts())\n",
    "plt.xlabel('Label', fontsize=12)\n",
    "plt.ylabel('Count', fontsize=12)\n",
    "plt.xticks(rotation=25)\n",
    "plt.title('Class Distribution', fontsize=15)\n",
    "plt.show()"
   ]
  },
  {
   "cell_type": "code",
   "execution_count": 37,
   "metadata": {},
   "outputs": [],
   "source": [
    "from sklearn.neighbors import KNeighborsClassifier\n",
    "from sklearn.model_selection import KFold, cross_val_score\n",
    "from sklearn.metrics import accuracy_score\n",
    "from sklearn.model_selection import train_test_split"
   ]
  },
  {
   "cell_type": "markdown",
   "metadata": {},
   "source": [
    "#### Chia văn bản với tỉ lệ 8:2"
   ]
  },
  {
   "cell_type": "code",
   "execution_count": 73,
   "metadata": {},
   "outputs": [],
   "source": [
    "X_train, X_test, y_train, y_test = train_test_split(df['text'], df['label_encode'], test_size=.2, random_state=42)\n",
    "y_train = lb.fit_transform(y_train)\n",
    "y_test = lb.fit_transform(y_test)"
   ]
  },
  {
   "cell_type": "markdown",
   "metadata": {},
   "source": [
    "### Trích xuất đặc trưng TF-IDF bằng thư viện sklearn"
   ]
  },
  {
   "cell_type": "code",
   "execution_count": 74,
   "metadata": {},
   "outputs": [],
   "source": [
    "tfidf_vectorizer = TfidfVectorizer(max_features=5500)\n",
    "tfidf_vectorizer.fit(df['text'])\n",
    "\n",
    "X_train_idf = tfidf_vectorizer.transform(X_train)\n",
    "X_test_idf = tfidf_vectorizer.transform(X_test)"
   ]
  },
  {
   "cell_type": "markdown",
   "metadata": {},
   "source": [
    "### Đánh giá bộ dữ liệu với giải thuật KNN bằng phương pháp 5-Fold (k-fold)"
   ]
  },
  {
   "cell_type": "code",
   "execution_count": 75,
   "metadata": {},
   "outputs": [],
   "source": [
    "knn= KNeighborsClassifier(n_neighbors=10)\n",
    "kf= KFold(n_splits=5, shuffle=True, random_state=42)\n",
    "scores= cross_val_score(knn, X=X_train_idf, y=y_train, cv=kf)"
   ]
  },
  {
   "cell_type": "code",
   "execution_count": 76,
   "metadata": {},
   "outputs": [
    {
     "name": "stdout",
     "output_type": "stream",
     "text": [
      "[0.95454545 0.94949495 0.96969697 0.96446701 0.95939086]\n",
      "0.9595190483515357\n"
     ]
    }
   ],
   "source": [
    "print(scores)\n",
    "print(scores.mean())"
   ]
  },
  {
   "cell_type": "markdown",
   "metadata": {},
   "source": [
    "#### Huấn luyện dữ liệu cho bài toán phân loại văn bản sử dụng đặc trưng TF-IDF và giải thuật SVM. "
   ]
  },
  {
   "cell_type": "code",
   "execution_count": 77,
   "metadata": {},
   "outputs": [],
   "source": [
    "from sklearn.svm import SVC\n",
    "from sklearn.metrics import accuracy_score, confusion_matrix, f1_score"
   ]
  },
  {
   "cell_type": "code",
   "execution_count": 82,
   "metadata": {},
   "outputs": [
    {
     "name": "stdout",
     "output_type": "stream",
     "text": [
      "Accuracy: 0.97165991902834\n",
      "F1 score: 0.9718775148881378\n",
      "Confusion Matrix:\n",
      " [[43  0  1  0  0]\n",
      " [ 0 54  1  0  0]\n",
      " [ 1  0 49  1  0]\n",
      " [ 0  0  3 46  0]\n",
      " [ 0  0  0  0 48]]\n"
     ]
    }
   ],
   "source": [
    "\n",
    "svm_model = SVC()\n",
    "svm_model.fit(X_train_idf.toarray(), y_train)\n",
    "\n",
    "# Đánh giá mô hình\n",
    "y_pred = svm_model.predict(X_test_idf.toarray())\n",
    "accuracy_svc = accuracy_score(y_test, y_pred)\n",
    "confusion_svc = confusion_matrix(y_test, y_pred)\n",
    "f1_score_svm = f1_score(y_test, y_pred, average='weighted')\n",
    "print(\"Accuracy:\", accuracy_svc)\n",
    "print(\"F1 score:\", f1_score_svm)\n",
    "print(\"Confusion Matrix:\\n\", confusion_svc)"
   ]
  },
  {
   "cell_type": "markdown",
   "metadata": {},
   "source": [
    "#### Huấn luyện dữ liệu cho bài toán phân loại văn bản sử dụng đặc trưng TF-IDF và giải thuật Bayes. "
   ]
  },
  {
   "cell_type": "code",
   "execution_count": 79,
   "metadata": {},
   "outputs": [],
   "source": [
    "from sklearn.naive_bayes import GaussianNB"
   ]
  },
  {
   "cell_type": "code",
   "execution_count": 84,
   "metadata": {},
   "outputs": [
    {
     "name": "stdout",
     "output_type": "stream",
     "text": [
      "Accuracy: 0.8866396761133604\n",
      "F1 score: 0.8844585246616772\n",
      "Confusion Matrix:\n",
      " [[39  1  3  0  1]\n",
      " [ 1 52  1  0  1]\n",
      " [ 5  7 36  3  0]\n",
      " [ 2  0  1 45  1]\n",
      " [ 1  0  0  0 47]]\n"
     ]
    }
   ],
   "source": [
    "bayes_model = GaussianNB()\n",
    "bayes_model.fit(X_train_idf.toarray(), y_train)\n",
    "\n",
    "y_pred = bayes_model.predict(X_test_idf.toarray())\n",
    "accuracy_gb = accuracy_score(y_test, y_pred)\n",
    "confusion_gb = confusion_matrix(y_test, y_pred)\n",
    "f1_score_gb = f1_score(y_test, y_pred, average='weighted')\n",
    "\n",
    "print(\"Accuracy:\", accuracy_gb)\n",
    "print(\"F1 score:\", f1_score_gb)\n",
    "print(\"Confusion Matrix:\\n\", confusion_gb)"
   ]
  },
  {
   "cell_type": "markdown",
   "metadata": {},
   "source": [
    "### So sánh kết quả các độ đo 6,7,8 với 2 giải thuật học máy ở trên"
   ]
  },
  {
   "cell_type": "code",
   "execution_count": 98,
   "metadata": {},
   "outputs": [],
   "source": [
    "import warnings\n",
    "warnings.filterwarnings('ignore')"
   ]
  },
  {
   "cell_type": "code",
   "execution_count": 99,
   "metadata": {},
   "outputs": [
    {
     "data": {
      "image/png": "[encoded data removed]",
      "text/plain": [
       "<Figure size 1500x500 with 2 Axes>"
      ]
     },
     "metadata": {},
     "output_type": "display_data"
    }
   ],
   "source": [
    "df = pd.DataFrame({'model': ['SVM', 'Naive Bayes'], 'accuracy': [accuracy_svc, accuracy_gb],\n",
    "                   'f1_score': [f1_score_svm, f1_score_gb]})\n",
    "# visualize model \n",
    "# subplot 2\n",
    "fig, ax = plt.subplots(1, 2, figsize=(15, 5))\n",
    "sns.barplot(x='model', y='accuracy', data=df, ax=ax[0])\n",
    "ax[0].set_title('Accuracy Score')\n",
    "sns.barplot(x='model', y='f1_score', data=df, ax=ax[1])\n",
    "ax[1].set_title('F1 Score')\n",
    "plt.show();"
   ]
  },
  {
   "cell_type": "code",
   "execution_count": 61,
   "metadata": {},
   "outputs": [],
   "source": [
    "from sklearn.pipeline import Pipeline"
   ]
  },
  {
   "cell_type": "code",
   "execution_count": 62,
   "metadata": {},
   "outputs": [],
   "source": [
    "from sklearn.base import BaseEstimator, TransformerMixin"
   ]
  },
  {
   "cell_type": "code",
   "execution_count": 63,
   "metadata": {},
   "outputs": [],
   "source": [
    "\n",
    "class ProcessText(BaseEstimator, TransformerMixin):\n",
    "    def __init__(self):\n",
    "        pass\n",
    "\n",
    "    def fit(self, X, y=None):\n",
    "        return self\n",
    "\n",
    "    def transform(self, X):\n",
    "        if isinstance(X, list):\n",
    "            return self.process(X)\n",
    "        return self.process([X])\n",
    "        return processed_text\n",
    "    def process(self, text):\n",
    "        for t in text:\n",
    "            t = t.lower()\n",
    "            t = word_tokenize(t, format=\"text\")\n",
    "        return tfidf_vectorizer.transform(text).toarray()\n"
   ]
  },
  {
   "cell_type": "code",
   "execution_count": 64,
   "metadata": {},
   "outputs": [
    {
     "data": {
      "text/plain": [
       "array(['giao-duc'], dtype=object)"
      ]
     },
     "execution_count": 64,
     "metadata": {},
     "output_type": "execute_result"
    }
   ],
   "source": [
    "pipeline_predict = Pipeline([\n",
    "    ('process', ProcessText()),\n",
    "    ('model', svm_model)\n",
    "])\n",
    "\n",
    "\n",
    "predicted_class = pipeline_predict.predict(\"\"\"Năm nay, hơn 660.000 thí sinh đăng ký xét tuyển đại học với 3,4 triệu nguyện vọng. Ngay sau khi kết thúc thời gian nhập học, các trường chưa tuyển đủ được tuyển bổ sung đến tháng 12.\n",
    "\"\"\")\n",
    "lb.inverse_transform(predicted_class)"
   ]
  },
  {
   "cell_type": "markdown",
   "metadata": {},
   "source": [
    "### Lưu model có kết quả tốt nhất"
   ]
  },
  {
   "cell_type": "code",
   "execution_count": null,
   "metadata": {},
   "outputs": [],
   "source": [
    "# save model\n",
    "import pickle\n",
    "\n",
    "with open('model.pkl', 'wb') as f:\n",
    "    pickle.dump(pipeline_predict, f)\n",
    "    \n",
    "with open('tfidf_vectorizer.pkl', 'wb') as f:\n",
    "    pickle.dump(tfidf_vectorizer, f)\n",
    "\n",
    "with open('label_encoder.pkl', 'wb') as f:\n",
    "    pickle.dump(lb, f)"
   ]
  },
  {
   "cell_type": "markdown",
   "metadata": {},
   "source": [
    "### Xây dựng ứng dụng phân loại văn bản với đầu vào là 1 văn bản bất kỳ có thể tự ngõ hay từ 1 file, in kết quả ra màn hình"
   ]
  },
  {
   "cell_type": "code",
   "execution_count": 119,
   "metadata": {},
   "outputs": [
    {
     "name": "stdout",
     "output_type": "stream",
     "text": [
      "\n",
      "  You can now view your Streamlit app in your browser.\n",
      "\n",
      "  Network URL: http://192.168.1.25:8501\n",
      "  External URL: http://113.172.60.17:8501\n",
      "\n",
      "Error while terminating subprocess (pid=42344): \n"
     ]
    }
   ],
   "source": [
    "%%bash\n",
    "streamlit run app.py"
   ]
  },
  {
   "cell_type": "markdown",
   "metadata": {},
   "source": [
    "Link deploy: https://nlpweek5.streamlit.app/"
   ]
  },
  {
   "cell_type": "markdown",
   "metadata": {},
   "source": [
    "## Câu 2"
   ]
  },
  {
   "cell_type": "code",
   "execution_count": 7,
   "metadata": {},
   "outputs": [
    {
     "name": "stdout",
     "output_type": "stream",
     "text": [
      "  (0, 340)\t-0.5773502691896258\n",
      "  (0, 397)\t-0.5773502691896258\n",
      "  (0, 451)\t-0.5773502691896258\n",
      "  (1, 282)\t0.5\n",
      "  (1, 340)\t-0.5\n",
      "  (1, 397)\t-0.5\n",
      "  (1, 451)\t-0.5\n",
      "  (2, 361)\t0.5\n",
      "  (2, 397)\t-0.5\n",
      "  (2, 448)\t0.5\n",
      "  (2, 451)\t-0.5\n",
      "  (3, 113)\t0.4472135954999579\n",
      "  (3, 340)\t-0.4472135954999579\n",
      "  (3, 352)\t0.4472135954999579\n",
      "  (3, 397)\t-0.4472135954999579\n",
      "  (3, 451)\t-0.4472135954999579\n"
     ]
    }
   ],
   "source": [
    "from sklearn.feature_extraction.text import HashingVectorizer\n",
    "corpus = [\n",
    " ' Hôm_nay tôi đi_học', \n",
    " ' Hôm_nay tôi đi_học ở trường', \n",
    " ' Hôm_nay tôi nghỉ ở nhà', \n",
    " ' Hôm_nay tôi có đi_học không?',\n",
    "]\n",
    "vectorizer = HashingVectorizer(n_features=2**4)\n",
    "X = vectorizer.fit_transform(corpus)\n",
    "print(X.shape)\n"
   ]
  },
  {
   "cell_type": "markdown",
   "metadata": {},
   "source": [
    "> Nhận xét: <br>\n",
    "\n",
    "Vector hóa và Hash Trick là hai phương pháp quan trọng trong tiền xử lý dữ liệu và biểu diễn đặc trưng cho các mô hình máy học: <br>\n",
    "- Vector hóa:<br>\n",
    "Vector hóa là quá trình biến đổi dữ liệu không cấu trúc thành các vectơ số học để có thể sử dụng cho các mô hình máy học. <br>\n",
    "Phương pháp này thường được ưa chuộng khi kích thước từ vựng không quá lớn và có đủ bộ nhớ để lưu trữ toàn bộ đặc điểm.<br>\n",
    "Có khả năng diễn giải cao, cho phép biết mỗi đặc điểm chiều tương ứng với từ nào và có thể sử dụng TF-IDF để cân nhắc trọng số của từng đặc điểm.<br>\n",
    "- Hash Trick:<br>\n",
    "Hash Trick là một trường hợp đặc biệt của vector hóa, thường được sử dụng trong các tình huống máy học quy mô lớn khi vốn từ vựng rất lớn và vector hóa truyền thống không đủ bộ nhớ.<br>\n",
    "Phương pháp này sử dụng hàm hash để ánh xạ đặc điểm vào các vị trí trong vectơ có kích thước cố định.<br>\n",
    "Hash Trick giúp giảm kích thước vectơ đặc trưng nhanh chóng và có thể vẫn đủ cho các nhiệm vụ tiếp theo, nhưng có thể làm mất một phần thông tin về ngữ nghĩa và không thể diễn giải như vector hóa truyền thống.<br>\n",
    "- Sử dụng thích hợp:<br>\n",
    "Sử dụng vector hóa chung khi kích thước từ vựng nhỏ và có đủ bộ nhớ. Nó giúp diễn giải và tinh chỉnh trọng số dễ dàng hơn.<br>\n",
    "Sử dụng Hash Trick trong trường hợp máy học quy mô lớn khi không đủ bộ nhớ để lưu trữ vector đặc trưng toàn bộ từ vựng. Tuy nhiên, cần lưu ý rằng việc sử dụng Hash Trick có thể làm mất một phần thông tin ngữ nghĩa và không thể diễn giải các đặc điểm cụ thể.<br>\n",
    "Tùy thuộc vào nhiệm vụ cụ thể và ràng buộc về tài nguyên, người ta có thể chọn giữa vector hóa và Hash Trick để biểu diễn dữ liệu một cách hiệu quả và phù hợp.<br>"
   ]
  },
  {
   "cell_type": "markdown",
   "metadata": {},
   "source": [
    "## Câu 3"
   ]
  },
  {
   "cell_type": "code",
   "execution_count": 113,
   "metadata": {},
   "outputs": [
    {
     "data": {
      "text/plain": [
       "<1235x999 sparse matrix of type '<class 'numpy.float64'>'\n",
       "\twith 264863 stored elements in Compressed Sparse Row format>"
      ]
     },
     "execution_count": 113,
     "metadata": {},
     "output_type": "execute_result"
    }
   ],
   "source": [
    "from sklearn.feature_extraction.text import HashingVectorizer\n",
    "vectorizer = HashingVectorizer(n_features=999)\n",
    "vectorizer.fit_transform(df['text'])"
   ]
  },
  {
   "cell_type": "code",
   "execution_count": 114,
   "metadata": {},
   "outputs": [],
   "source": [
    "X_train_hv = vectorizer.transform(X_train)\n",
    "X_test_hv = vectorizer.transform(X_test)"
   ]
  },
  {
   "cell_type": "code",
   "execution_count": 116,
   "metadata": {},
   "outputs": [
    {
     "name": "stdout",
     "output_type": "stream",
     "text": [
      "Accuracy: 0.9676113360323887\n",
      "F1 score: 0.967817631680301\n",
      "Confusion Matrix:\n",
      " [[42  0  2  0  0]\n",
      " [ 1 53  0  0  1]\n",
      " [ 0  0 51  0  0]\n",
      " [ 0  0  4 45  0]\n",
      " [ 0  0  0  0 48]]\n"
     ]
    }
   ],
   "source": [
    "\n",
    "svm_model = SVC()\n",
    "svm_model.fit(X_train_hv, y_train)\n",
    "\n",
    "# Đánh giá mô hình\n",
    "y_pred = svm_model.predict(X_test_hv.toarray())\n",
    "accuracy_svc = accuracy_score(y_test, y_pred)\n",
    "confusion_svc = confusion_matrix(y_test, y_pred)\n",
    "f1_score_svm = f1_score(y_test, y_pred, average='weighted')\n",
    "print(\"Accuracy:\", accuracy_svc)\n",
    "print(\"F1 score:\", f1_score_svm)\n",
    "print(\"Confusion Matrix:\\n\", confusion_svc)"
   ]
  },
  {
   "cell_type": "code",
   "execution_count": 117,
   "metadata": {},
   "outputs": [
    {
     "name": "stdout",
     "output_type": "stream",
     "text": [
      "Accuracy: 0.8380566801619433\n",
      "F1 score: 0.8371588661784788\n",
      "Confusion Matrix:\n",
      " [[34  1  7  0  2]\n",
      " [ 2 50  0  0  3]\n",
      " [ 6  3 36  5  1]\n",
      " [ 2  1  4 42  0]\n",
      " [ 1  0  1  1 45]]\n"
     ]
    }
   ],
   "source": [
    "bayes_model = GaussianNB()\n",
    "bayes_model.fit(X_train_hv.toarray(), y_train)\n",
    "\n",
    "y_pred = bayes_model.predict(X_test_hv.toarray())\n",
    "accuracy_gb = accuracy_score(y_test, y_pred)\n",
    "confusion_gb = confusion_matrix(y_test, y_pred)\n",
    "f1_score_gb = f1_score(y_test, y_pred, average='weighted')\n",
    "\n",
    "print(\"Accuracy:\", accuracy_gb)\n",
    "print(\"F1 score:\", f1_score_gb)\n",
    "print(\"Confusion Matrix:\\n\", confusion_gb)"
   ]
  },
  {
   "cell_type": "code",
   "execution_count": 120,
   "metadata": {},
   "outputs": [
    {
     "data": {
      "image/png": "[encoded data removed]",
      "text/plain": [
       "<Figure size 1500x500 with 2 Axes>"
      ]
     },
     "metadata": {},
     "output_type": "display_data"
    }
   ],
   "source": [
    "df = pd.DataFrame({'model': ['SVM', 'Naive Bayes'], 'accuracy': [accuracy_svc, accuracy_gb],\n",
    "                   'f1_score': [f1_score_svm, f1_score_gb]})\n",
    "# visualize model \n",
    "fig, ax = plt.subplots(1, 2, figsize=(15, 5))\n",
    "sns.barplot(x='model', y='accuracy', data=df, ax=ax[0])\n",
    "ax[0].set_title('Accuracy Score')\n",
    "sns.barplot(x='model', y='f1_score', data=df, ax=ax[1])\n",
    "ax[1].set_title('F1 Score')\n",
    "plt.show();"
   ]
  }
 ],
 "metadata": {
  "kernelspec": {
   "display_name": "venv",
   "language": "python",
   "name": "python3"
  },
  "language_info": {
   "codemirror_mode": {
    "name": "ipython",
    "version": 3
   },
   "file_extension": ".py",
   "mimetype": "text/x-python",
   "name": "python",
   "nbconvert_exporter": "python",
   "pygments_lexer": "ipython3",
   "version": "3.10.12"
  },
  "orig_nbformat": 4
 },
 "nbformat": 4,
 "nbformat_minor": 2
}
